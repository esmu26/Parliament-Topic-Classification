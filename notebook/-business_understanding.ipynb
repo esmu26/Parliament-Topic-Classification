{
  "nbformat": 4,
  "nbformat_minor": 0,
  "metadata": {
    "colab": {
      "provenance": [],
      "gpuType": "T4",
      "authorship_tag": "ABX9TyPIRfE/yfFiFPjiujc9oUcb",
      "include_colab_link": true
    },
    "kernelspec": {
      "name": "python3",
      "display_name": "Python 3"
    },
    "language_info": {
      "name": "python"
    }
  },
  "cells": [
    {
      "cell_type": "markdown",
      "metadata": {
        "id": "view-in-github",
        "colab_type": "text"
      },
      "source": [
        "<a href=\"https://colab.research.google.com/github/esmu26/Parliament-Topic-Classification/blob/main/notebook/-business_understanding.ipynb\" target=\"_parent\"><img src=\"https://colab.research.google.com/assets/colab-badge.svg\" alt=\"Open In Colab\"/></a>"
      ]
    },
    {
      "cell_type": "code",
      "execution_count": null,
      "metadata": {
        "id": "CwEPOwH3a_Xj"
      },
      "outputs": [],
      "source": []
    },
    {
      "cell_type": "markdown",
      "source": [
        "# 1. Business Understanding\n",
        "\n",
        "## 1.1 Background\n",
        "\n",
        "\n",
        "*In the zambian parliment(National Assembly), responses to debates and proceedings cover a broad range of topics, reflecting the various funtions parliament, which include legislation,oversight, and representation.*\n",
        "\n",
        "*parliamentary debates are critical forums for discussing national issues, shaping policies, and making government decisions. The proceedings often generate vast amounts of unstructured text data. Manually categorizing these debates into specific topics is time-consuming and prone to human bias.*\n",
        "\n",
        "*Automating this classification can:*\n",
        "\n",
        "*- Help journalists quickly find relevant content.*\n",
        "\n",
        "*- Assist political analysts in identfying trends over time.*\n",
        "\n",
        "*- Improve public accessibility and transparency in governance.*\n",
        "\n",
        "\n",
        "## 1.2 Business Objective\n",
        "*The primary goal is to **develop an NLP-based classification system** that automatically assigns topics to reponses in parliamentary debates and proceedings.*\n",
        "\n",
        "*This will:*\n",
        "\n",
        "*- **Reduce time** required for manually for classification.*\n",
        "\n",
        "*- **Increase accuracy** in topic labeling.*\n",
        "\n",
        "*- Enable **faster policy trend analysis**.*\n",
        "\n",
        "\n",
        "## 1.3 Problem Statement\n",
        "*Parliamentary debate transcripts contains discussions on diverse topics such as healthcare, education, economy, environment, and security. currently, categorizing these reponses manually is resource-intensive. This project aims to apply **Natural Language Processing and Machine Learning** techniques to automatically classify debates responses into predefined topics, thereby improving accessibility, transparency, and efficiency in parliamentary data analysis.*\n",
        "\n",
        "## 1.4 Project Scope\n",
        "**In-Scope:**\n",
        "\n",
        "*- Collecting and preprocessing parliamentary debate datasets.*\n",
        "\n",
        "*- Extracting relevant features from textual data.*\n",
        "\n",
        "*- Applying machine learning classification algorithms.*\n",
        "\n",
        "*- Evaluating model performance using accuracy , precision, recall, and F1-score.*\n",
        "\n",
        "**Out-of-Scope**\n",
        "\n",
        "*- Sentiment analysis of responses.*\n",
        "\n",
        "*- Live real-time scraping (dataset will be static for this project).*\n",
        "\n",
        "*- multilingual processing (only English will be used unless otherwise specified ).*\n",
        "\n",
        "## 1.5 Success Criteria\n",
        "*The project will be considered successful if:*\n",
        "\n",
        "*1. The classification model achieves **>= 80% accuracy**(or equivalent F1-score).*\n",
        "\n",
        "*2. The trained model can correctly classify **unseen parliamentary responses** into their relevant topics.*\n",
        "\n",
        "*3. The process is well-documented for reproducibility.*\n",
        "\n",
        "## 1.6 Stakeholders\n",
        "*- **Researchers/ Analysts** - Need topic summaries for policy studies.*\n",
        "\n",
        "*- **Journalists** - want quick access to debates on specific issues.*\n",
        "\n",
        "*- **Parliament Staffs** - Require efficient records organization.*\n",
        "\n",
        "*- **Public** - Desire transparency and easier navigation of proceedings.*\n",
        "\n",
        "## 1.7 Constraints and Risks\n",
        "*- Limited availability of labeled parliamentary datasets.*\n",
        "\n",
        "*- Potential class imbalance (some topics may have fewer examples).*\n",
        "\n",
        "*- Variation in speaking styles and vocabulary among members.*\n",
        "\n",
        "## 1.8 Assumptions\n",
        "*- Debate transcripts are in **English**.*\n",
        "\n",
        "*- Topic labels will be **predefined** and mutually exclusive.*\n",
        "\n",
        "*- Historical data will be representative of future debate reponses.*"
      ],
      "metadata": {
        "id": "YGRbINuQbDOB"
      }
    },
    {
      "cell_type": "code",
      "source": [
        "!pip install pandas numpy scikit-learn matplotlib seaborn nltk\n"
      ],
      "metadata": {
        "colab": {
          "base_uri": "https://localhost:8080/"
        },
        "id": "B2R6yOsJbyJP",
        "outputId": "1c624900-a14b-45d0-c808-8fc18dfbab3e"
      },
      "execution_count": 1,
      "outputs": [
        {
          "output_type": "stream",
          "name": "stdout",
          "text": [
            "Requirement already satisfied: pandas in /usr/local/lib/python3.11/dist-packages (2.2.2)\n",
            "Requirement already satisfied: numpy in /usr/local/lib/python3.11/dist-packages (2.0.2)\n",
            "Requirement already satisfied: scikit-learn in /usr/local/lib/python3.11/dist-packages (1.6.1)\n",
            "Requirement already satisfied: matplotlib in /usr/local/lib/python3.11/dist-packages (3.10.0)\n",
            "Requirement already satisfied: seaborn in /usr/local/lib/python3.11/dist-packages (0.13.2)\n",
            "Requirement already satisfied: nltk in /usr/local/lib/python3.11/dist-packages (3.9.1)\n",
            "Requirement already satisfied: python-dateutil>=2.8.2 in /usr/local/lib/python3.11/dist-packages (from pandas) (2.9.0.post0)\n",
            "Requirement already satisfied: pytz>=2020.1 in /usr/local/lib/python3.11/dist-packages (from pandas) (2025.2)\n",
            "Requirement already satisfied: tzdata>=2022.7 in /usr/local/lib/python3.11/dist-packages (from pandas) (2025.2)\n",
            "Requirement already satisfied: scipy>=1.6.0 in /usr/local/lib/python3.11/dist-packages (from scikit-learn) (1.16.1)\n",
            "Requirement already satisfied: joblib>=1.2.0 in /usr/local/lib/python3.11/dist-packages (from scikit-learn) (1.5.1)\n",
            "Requirement already satisfied: threadpoolctl>=3.1.0 in /usr/local/lib/python3.11/dist-packages (from scikit-learn) (3.6.0)\n",
            "Requirement already satisfied: contourpy>=1.0.1 in /usr/local/lib/python3.11/dist-packages (from matplotlib) (1.3.3)\n",
            "Requirement already satisfied: cycler>=0.10 in /usr/local/lib/python3.11/dist-packages (from matplotlib) (0.12.1)\n",
            "Requirement already satisfied: fonttools>=4.22.0 in /usr/local/lib/python3.11/dist-packages (from matplotlib) (4.59.0)\n",
            "Requirement already satisfied: kiwisolver>=1.3.1 in /usr/local/lib/python3.11/dist-packages (from matplotlib) (1.4.8)\n",
            "Requirement already satisfied: packaging>=20.0 in /usr/local/lib/python3.11/dist-packages (from matplotlib) (25.0)\n",
            "Requirement already satisfied: pillow>=8 in /usr/local/lib/python3.11/dist-packages (from matplotlib) (11.3.0)\n",
            "Requirement already satisfied: pyparsing>=2.3.1 in /usr/local/lib/python3.11/dist-packages (from matplotlib) (3.2.3)\n",
            "Requirement already satisfied: click in /usr/local/lib/python3.11/dist-packages (from nltk) (8.2.1)\n",
            "Requirement already satisfied: regex>=2021.8.3 in /usr/local/lib/python3.11/dist-packages (from nltk) (2024.11.6)\n",
            "Requirement already satisfied: tqdm in /usr/local/lib/python3.11/dist-packages (from nltk) (4.67.1)\n",
            "Requirement already satisfied: six>=1.5 in /usr/local/lib/python3.11/dist-packages (from python-dateutil>=2.8.2->pandas) (1.17.0)\n"
          ]
        }
      ]
    },
    {
      "cell_type": "code",
      "source": [
        "import pandas as  pd\n",
        "import numpy as np\n",
        "\n",
        "\n",
        "data = {\n",
        "    \"response\": [\n",
        "        \"The healthcare budget will be increased to imperove hospital facilities.\",\n",
        "        \"We are allocating more funds to improve education infrastructure.\",\n",
        "        \"The economy is showing signs of recovery due to tax reforms.\",\n",
        "        \"Security measures at the borders will be strengthed .\",\n",
        "        \"We wil invest in new technologies to enhance our economy.\",\n",
        "    ],\n",
        "    \"topic\": [\"Healthcare\", \"Education\", \"Economy\", \"Security\", \"Technology\"],\n",
        "}\n",
        "df = pd.DataFrame(data)\n",
        "print(df)\n"
      ],
      "metadata": {
        "colab": {
          "base_uri": "https://localhost:8080/"
        },
        "id": "bwXYbHoEcraM",
        "outputId": "adc316c0-e12f-47dc-bf38-90408cf08a44"
      },
      "execution_count": 3,
      "outputs": [
        {
          "output_type": "stream",
          "name": "stdout",
          "text": [
            "                                            response       topic\n",
            "0  The healthcare budget will be increased to imp...  Healthcare\n",
            "1  We are allocating more funds to improve educat...   Education\n",
            "2  The economy is showing signs of recovery due t...     Economy\n",
            "3  Security measures at the borders will be stren...    Security\n",
            "4  We wil invest in new technologies to enhance o...  Technology\n"
          ]
        }
      ]
    },
    {
      "cell_type": "code",
      "source": [
        "df.to_csv(\"parliament_placeholder.csv\", index=False)\n",
        "print(\"placeholder dataset saved as parliament_placeholder.csv\")"
      ],
      "metadata": {
        "colab": {
          "base_uri": "https://localhost:8080/"
        },
        "id": "GDR7-9XCg2wT",
        "outputId": "5ec1f789-7fd1-48e6-e055-2725e6fe93a3"
      },
      "execution_count": 4,
      "outputs": [
        {
          "output_type": "stream",
          "name": "stdout",
          "text": [
            "placeholder dataset saved as parliament_placeholder.csv\n"
          ]
        }
      ]
    }
  ]
}